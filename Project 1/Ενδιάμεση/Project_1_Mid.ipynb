{
  "nbformat": 4,
  "nbformat_minor": 0,
  "metadata": {
    "colab": {
      "provenance": [],
      "collapsed_sections": []
    },
    "kernelspec": {
      "name": "python3",
      "display_name": "Python 3"
    },
    "language_info": {
      "name": "python"
    }
  },
  "cells": [
    {
      "cell_type": "markdown",
      "source": [
        "Written by: Konstantinos Perros\n",
        "AEM : 3713"
      ],
      "metadata": {
        "id": "9zR3wJVGuQ9q"
      }
    },
    {
      "cell_type": "markdown",
      "source": [
        "The MNIST database (Modified National Institute of Standards and Technology database) is a large database of handwritten digits that is commonly used for training various image processing systems. The images are 28x28 pixels depicting numbers from 0 to 9, with 60000 total training images and 10000 total testing images."
      ],
      "metadata": {
        "id": "KUoTNEGKubkB"
      }
    },
    {
      "cell_type": "code",
      "execution_count": 41,
      "metadata": {
        "id": "xCJxJRUW0qIT"
      },
      "outputs": [],
      "source": [
        "import tensorflow as tf\n",
        "import numpy as np\n",
        "from keras.datasets import mnist\n"
      ]
    },
    {
      "cell_type": "code",
      "source": [
        "(x_train, y_train), (x_test, y_test) = mnist.load_data()\n",
        "print(x_train.shape)\n",
        "print(y_train.shape)\n",
        "print(x_test.shape)\n",
        "print(y_test.shape)"
      ],
      "metadata": {
        "colab": {
          "base_uri": "https://localhost:8080/"
        },
        "id": "kfmBeJpGPmTx",
        "outputId": "07f869d4-6157-4575-84be-779a5f865e24"
      },
      "execution_count": 43,
      "outputs": [
        {
          "output_type": "stream",
          "name": "stdout",
          "text": [
            "(60000, 28, 28)\n",
            "(60000,)\n",
            "(10000, 28, 28)\n",
            "(10000,)\n"
          ]
        }
      ]
    },
    {
      "cell_type": "markdown",
      "source": [
        "Depicts the number of images as well as their dimensions"
      ],
      "metadata": {
        "id": "vGshQAwVvTH0"
      }
    },
    {
      "cell_type": "code",
      "source": [
        "import matplotlib.pyplot as plt\n",
        "\n",
        "figure = plt.figure(figsize=(3, 3))\n",
        "plt.imshow(x_train[145])\n",
        "plt.xticks([])\n",
        "plt.yticks([])\n",
        "plt.show()\n",
        "print(y_train[145])"
      ],
      "metadata": {
        "colab": {
          "base_uri": "https://localhost:8080/",
          "height": 214
        },
        "id": "xxcTWia2PopH",
        "outputId": "febb5f74-4242-40e9-9701-f3431bb35af9"
      },
      "execution_count": 45,
      "outputs": [
        {
          "output_type": "display_data",
          "data": {
            "text/plain": [
              "<Figure size 216x216 with 1 Axes>"
            ],
            "image/png": "[encoded data removed]"
          },
          "metadata": {}
        },
        {
          "output_type": "stream",
          "name": "stdout",
          "text": [
            "5\n"
          ]
        }
      ]
    },
    {
      "cell_type": "markdown",
      "source": [
        "Depicts and plots a random image from the dataset to validate usage."
      ],
      "metadata": {
        "id": "cUKMfODpvaSQ"
      }
    },
    {
      "cell_type": "code",
      "source": [
        "from sklearn.neighbors import KNeighborsClassifier\n",
        "\n",
        "from sklearn.neighbors import NearestCentroid"
      ],
      "metadata": {
        "id": "IciC_9bJP4k7"
      },
      "execution_count": 16,
      "outputs": []
    },
    {
      "cell_type": "markdown",
      "source": [
        "Import the KNN and Nearest Centroid calssifiers from the scikit-learn library"
      ],
      "metadata": {
        "id": "ohSk3-NRvtGK"
      }
    },
    {
      "cell_type": "code",
      "source": [
        "knn = KNeighborsClassifier(n_neighbors=1)\n",
        "\n",
        "x_train_knn1 = x_train.reshape(60000, 784)\n",
        "x_test_knn1 = x_test.reshape(10000, 784)\n",
        "\n",
        "knn.fit(x_train_knn1, y_train)\n",
        "print(knn.score(x_test_knn1, y_test))"
      ],
      "metadata": {
        "colab": {
          "base_uri": "https://localhost:8080/"
        },
        "id": "kpdFoJpUncHe",
        "outputId": "9ec5c419-c462-4731-9f0a-9b90d54f04c5"
      },
      "execution_count": 20,
      "outputs": [
        {
          "output_type": "stream",
          "name": "stdout",
          "text": [
            "0.9691\n"
          ]
        }
      ]
    },
    {
      "cell_type": "markdown",
      "source": [
        "Reshape the data for usage in the classifier for 1 neighbour, run the classifier and present the accuracy after testing with the initial data."
      ],
      "metadata": {
        "id": "AQInuDSMv0Rq"
      }
    },
    {
      "cell_type": "code",
      "source": [
        "knn = KNeighborsClassifier(n_neighbors=3)\n",
        "\n",
        "x_train_knn3 = x_train.reshape(60000, 784)\n",
        "x_test_knn3 = x_test.reshape(10000, 784)\n",
        "\n",
        "knn.fit(x_train_knn3, y_train)\n",
        "print(knn.score(x_test_knn3, y_test))"
      ],
      "metadata": {
        "colab": {
          "base_uri": "https://localhost:8080/"
        },
        "id": "SCBFiK7Anr7T",
        "outputId": "89bac489-6ee1-4074-d967-b96da1c1abae"
      },
      "execution_count": 21,
      "outputs": [
        {
          "output_type": "stream",
          "name": "stdout",
          "text": [
            "0.9705\n"
          ]
        }
      ]
    },
    {
      "cell_type": "markdown",
      "source": [
        "Reshape the data for usage in the classifier for 3 neighbours, run the classifier and present the accuracy after testing with the initial data."
      ],
      "metadata": {
        "id": "M3BH5fWdv-Rs"
      }
    },
    {
      "cell_type": "code",
      "source": [
        "clf = NearestCentroid()\n",
        "\n",
        "x_train_clf = x_train.reshape(60000, 784)\n",
        "x_test_clf = x_test.reshape(10000, 784)\n",
        "clf.fit(x_train_clf, y_train)\n",
        "NearestCentroid()\n",
        "print(clf.score(x_test_clf,y_test))\n"
      ],
      "metadata": {
        "colab": {
          "base_uri": "https://localhost:8080/"
        },
        "id": "oIJ7a4-foKM-",
        "outputId": "11694dcd-9e7d-457f-a43c-6d96e3290d10"
      },
      "execution_count": 22,
      "outputs": [
        {
          "output_type": "stream",
          "name": "stdout",
          "text": [
            "0.8203\n"
          ]
        }
      ]
    },
    {
      "cell_type": "markdown",
      "source": [
        "Reshape the data for usage in the classifier for finding the nearest centroids, run the classifier and present the accuracy after testing with the initial data."
      ],
      "metadata": {
        "id": "XVi4MY8KwLyu"
      }
    },
    {
      "cell_type": "code",
      "source": [
        "knn = KNeighborsClassifier(n_neighbors=5)\n",
        "\n",
        "x_train_knn5 = x_train.reshape(60000, 784)\n",
        "x_test_knn5 = x_test.reshape(10000, 784)\n",
        "\n",
        "knn.fit(x_train_knn5, y_train)\n",
        "print(knn.score(x_test_knn5, y_test))"
      ],
      "metadata": {
        "colab": {
          "base_uri": "https://localhost:8080/"
        },
        "id": "fTtVtqQao4Ar",
        "outputId": "2f5942aa-8813-4903-cf7c-1dc8a1e90d7e"
      },
      "execution_count": 23,
      "outputs": [
        {
          "output_type": "stream",
          "name": "stdout",
          "text": [
            "0.9688\n"
          ]
        }
      ]
    },
    {
      "cell_type": "markdown",
      "source": [
        "Reshape the data for usage in the classifier for 5 neighbours, run the classifier and present the accuracy after testing with the initial data."
      ],
      "metadata": {
        "id": "3fuegpL4wIuX"
      }
    },
    {
      "cell_type": "code",
      "source": [
        "knn = KNeighborsClassifier(n_neighbors=7)\n",
        "\n",
        "x_train_knn7 = x_train.reshape(60000, 784)\n",
        "x_test_knn7 = x_test.reshape(10000, 784)\n",
        "\n",
        "knn.fit(x_train_knn7, y_train)\n",
        "print(knn.score(x_test_knn7, y_test))"
      ],
      "metadata": {
        "colab": {
          "base_uri": "https://localhost:8080/"
        },
        "id": "ad1B4lWQo3rZ",
        "outputId": "dbfa17bb-6535-4b15-90f7-109b7919e2a3"
      },
      "execution_count": 24,
      "outputs": [
        {
          "output_type": "stream",
          "name": "stdout",
          "text": [
            "0.9694\n"
          ]
        }
      ]
    },
    {
      "cell_type": "markdown",
      "source": [
        "Reshape the data for usage in the classifier for 7 neighbours, run the classifier and present the accuracy after testing with the initial data."
      ],
      "metadata": {
        "id": "AwEPejIdwKbT"
      }
    },
    {
      "cell_type": "code",
      "source": [
        "from sklearn.decomposition import PCA\n",
        "\n"
      ],
      "metadata": {
        "id": "mPoyiY0hQRgk"
      },
      "execution_count": 39,
      "outputs": []
    },
    {
      "cell_type": "markdown",
      "source": [
        "Import the Principal Component Analysis library and run on all the above results to increase dimensions, compress data and improve accuracy"
      ],
      "metadata": {
        "id": "pkwP08SkwTUT"
      }
    },
    {
      "cell_type": "code",
      "source": [
        "pca = PCA(n_components=50)\n",
        "\n",
        "pca.fit(x_train_knn1)\n",
        "x_train_pca = pca.transform(x_train_knn1)\n",
        "\n",
        "pca.fit(x_test_knn1)\n",
        "x_test_pca = pca.transform(x_test_knn1)\n",
        "\n",
        "knn = KNeighborsClassifier(n_neighbors=1)\n",
        "\n",
        "knn.fit(x_test_pca, y_test)\n",
        "print(knn.score(x_test_pca, y_test))"
      ],
      "metadata": {
        "id": "gBRjXFEbQZyq",
        "colab": {
          "base_uri": "https://localhost:8080/"
        },
        "outputId": "50d11282-ff23-4510-e105-744d83ea7f97"
      },
      "execution_count": 46,
      "outputs": [
        {
          "output_type": "stream",
          "name": "stdout",
          "text": [
            "1.0\n"
          ]
        }
      ]
    },
    {
      "cell_type": "code",
      "source": [
        "pca = PCA(n_components=50)\n",
        "\n",
        "pca.fit(x_train_knn3)\n",
        "x_train_pca = pca.transform(x_train_knn3)\n",
        "\n",
        "pca.fit(x_test_knn3)\n",
        "x_test_pca = pca.transform(x_test_knn3)\n",
        "\n",
        "knn = KNeighborsClassifier(n_neighbors=3)\n",
        "\n",
        "knn.fit(x_test_pca, y_test)\n",
        "print(knn.score(x_test_pca, y_test))"
      ],
      "metadata": {
        "colab": {
          "base_uri": "https://localhost:8080/"
        },
        "id": "NbA3-B2bQdbS",
        "outputId": "93ef33ad-5506-4aa9-a00b-e24e84ee6ca6"
      },
      "execution_count": 47,
      "outputs": [
        {
          "output_type": "stream",
          "name": "stdout",
          "text": [
            "0.9807\n"
          ]
        }
      ]
    },
    {
      "cell_type": "code",
      "source": [
        "pca = PCA(n_components=50)\n",
        "\n",
        "pca.fit(x_train_knn5)\n",
        "x_train_pca = pca.transform(x_train_knn5)\n",
        "\n",
        "pca.fit(x_test_knn5)\n",
        "x_test_pca = pca.transform(x_test_knn5)\n",
        "\n",
        "knn = KNeighborsClassifier(n_neighbors=5)\n",
        "\n",
        "knn.fit(x_test_pca, y_test)\n",
        "print(knn.score(x_test_pca, y_test))"
      ],
      "metadata": {
        "colab": {
          "base_uri": "https://localhost:8080/"
        },
        "id": "5-i8OQrRqb3Q",
        "outputId": "b800ae0a-881a-4e18-8481-5d044f46fa9f"
      },
      "execution_count": 48,
      "outputs": [
        {
          "output_type": "stream",
          "name": "stdout",
          "text": [
            "0.9751\n"
          ]
        }
      ]
    },
    {
      "cell_type": "code",
      "source": [
        "pca = PCA(n_components=50)\n",
        "\n",
        "pca.fit(x_train_knn7)\n",
        "x_train_pca = pca.transform(x_train_knn7)\n",
        "\n",
        "pca.fit(x_test_knn7)\n",
        "x_test_pca = pca.transform(x_test_knn7)\n",
        "\n",
        "knn = KNeighborsClassifier(n_neighbors=7)\n",
        "\n",
        "knn.fit(x_test_pca, y_test)\n",
        "print(knn.score(x_test_pca, y_test))"
      ],
      "metadata": {
        "colab": {
          "base_uri": "https://localhost:8080/"
        },
        "id": "4v05w3z3qdZ2",
        "outputId": "46315370-686d-487a-c324-072c442642d2"
      },
      "execution_count": 49,
      "outputs": [
        {
          "output_type": "stream",
          "name": "stdout",
          "text": [
            "0.9701\n"
          ]
        }
      ]
    },
    {
      "cell_type": "code",
      "source": [
        "pca = PCA(n_components=50)\n",
        "\n",
        "pca.fit(x_train_clf)\n",
        "x_train_pca = pca.transform(x_train_clf)\n",
        "\n",
        "pca.fit(x_test_clf)\n",
        "x_test_pca = pca.transform(x_test_clf)\n",
        "\n",
        "clf = NearestCentroid()\n",
        "\n",
        "clf.fit(x_test_pca, y_test)\n",
        "NearestCentroid()\n",
        "print(clf.score(x_test_pca,y_test))"
      ],
      "metadata": {
        "colab": {
          "base_uri": "https://localhost:8080/"
        },
        "id": "-DIAsFhpsGvi",
        "outputId": "05084607-a426-4c5c-c288-265b9f2ff516"
      },
      "execution_count": 50,
      "outputs": [
        {
          "output_type": "stream",
          "name": "stdout",
          "text": [
            "0.8213\n"
          ]
        }
      ]
    },
    {
      "cell_type": "markdown",
      "source": [
        "As shown above, after increasing substantially the dimensions, the accuracies for the classifiers come really close to perfection, while with lower dimensions the accuracies remain unchanged or worsen."
      ],
      "metadata": {
        "id": "Yh16LuQCwbzM"
      }
    }
  ]
}