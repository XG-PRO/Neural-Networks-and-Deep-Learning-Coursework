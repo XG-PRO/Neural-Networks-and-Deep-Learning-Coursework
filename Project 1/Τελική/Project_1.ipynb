{
  "nbformat": 4,
  "nbformat_minor": 0,
  "metadata": {
    "colab": {
      "provenance": []
    },
    "kernelspec": {
      "name": "python3",
      "display_name": "Python 3"
    },
    "language_info": {
      "name": "python"
    }
  },
  "cells": [
    {
      "cell_type": "markdown",
      "source": [
        "Written by: Konstantinos Perros\n",
        "AEM : 3713"
      ],
      "metadata": {
        "id": "9zR3wJVGuQ9q"
      }
    },
    {
      "cell_type": "markdown",
      "source": [
        "The MNIST database (Modified National Institute of Standards and Technology database) is a large database of handwritten digits that is commonly used for training various image processing systems. The images are 28x28 pixels depicting numbers from 0 to 9, with 60000 total training images and 10000 total testing images."
      ],
      "metadata": {
        "id": "KUoTNEGKubkB"
      }
    },
    {
      "cell_type": "code",
      "execution_count": 42,
      "metadata": {
        "id": "xCJxJRUW0qIT"
      },
      "outputs": [],
      "source": [
        "import tensorflow as tf\n",
        "import numpy as np\n",
        "from keras.datasets import mnist\n"
      ]
    },
    {
      "cell_type": "code",
      "source": [
        "(x_train, y_train), (x_test, y_test) = mnist.load_data()\n",
        "print(x_train.shape)\n",
        "print(y_train.shape)\n",
        "print(x_test.shape)\n",
        "print(y_test.shape)"
      ],
      "metadata": {
        "colab": {
          "base_uri": "https://localhost:8080/"
        },
        "id": "kfmBeJpGPmTx",
        "outputId": "be623ac2-a851-4e94-d0af-36309c0e68f2"
      },
      "execution_count": 43,
      "outputs": [
        {
          "output_type": "stream",
          "name": "stdout",
          "text": [
            "(60000, 28, 28)\n",
            "(60000,)\n",
            "(10000, 28, 28)\n",
            "(10000,)\n"
          ]
        }
      ]
    },
    {
      "cell_type": "markdown",
      "source": [
        "Depicts the number of images as well as their dimensions"
      ],
      "metadata": {
        "id": "vGshQAwVvTH0"
      }
    },
    {
      "cell_type": "code",
      "source": [
        "import matplotlib.pyplot as plt\n",
        "\n",
        "figure = plt.figure(figsize=(3, 3))\n",
        "plt.imshow(x_train[145])\n",
        "plt.xticks([])\n",
        "plt.yticks([])\n",
        "plt.show()\n",
        "print(y_train[145])"
      ],
      "metadata": {
        "colab": {
          "base_uri": "https://localhost:8080/",
          "height": 214
        },
        "id": "xxcTWia2PopH",
        "outputId": "febb5f74-4242-40e9-9701-f3431bb35af9"
      },
      "execution_count": null,
      "outputs": [
        {
          "output_type": "display_data",
          "data": {
            "text/plain": [
              "<Figure size 216x216 with 1 Axes>"
            ],
            "image/png": "[encoded data removed]"
          },
          "metadata": {}
        },
        {
          "output_type": "stream",
          "name": "stdout",
          "text": [
            "5\n"
          ]
        }
      ]
    },
    {
      "cell_type": "markdown",
      "source": [
        "Depicts and plots a random image from the dataset to validate usage."
      ],
      "metadata": {
        "id": "cUKMfODpvaSQ"
      }
    },
    {
      "cell_type": "code",
      "source": [
        "from sklearn.neighbors import KNeighborsClassifier\n",
        "\n",
        "from sklearn.neighbors import NearestCentroid"
      ],
      "metadata": {
        "id": "IciC_9bJP4k7"
      },
      "execution_count": 44,
      "outputs": []
    },
    {
      "cell_type": "markdown",
      "source": [
        "Import the KNN and Nearest Centroid calssifiers from the scikit-learn library"
      ],
      "metadata": {
        "id": "ohSk3-NRvtGK"
      }
    },
    {
      "cell_type": "code",
      "source": [
        "knn = KNeighborsClassifier(n_neighbors=1)\n",
        "\n",
        "x_train_knn1 = x_train.reshape(60000, 784)\n",
        "x_test_knn1 = x_test.reshape(10000, 784)\n",
        "\n",
        "knn.fit(x_train_knn1, y_train)\n",
        "print(knn.score(x_test_knn1, y_test))"
      ],
      "metadata": {
        "colab": {
          "base_uri": "https://localhost:8080/"
        },
        "id": "kpdFoJpUncHe",
        "outputId": "73768207-6b3d-4e6d-dce2-0224ee4f737a"
      },
      "execution_count": 45,
      "outputs": [
        {
          "output_type": "stream",
          "name": "stdout",
          "text": [
            "0.9691\n"
          ]
        }
      ]
    },
    {
      "cell_type": "markdown",
      "source": [
        "Reshape the data for usage in the classifier for 1 neighbour, run the classifier and present the accuracy after testing with the initial data.\n",
        "\n",
        "(Time taken: 37s)"
      ],
      "metadata": {
        "id": "AQInuDSMv0Rq"
      }
    },
    {
      "cell_type": "code",
      "source": [
        "knn = KNeighborsClassifier(n_neighbors=3)\n",
        "\n",
        "x_train_knn3 = x_train.reshape(60000, 784)\n",
        "x_test_knn3 = x_test.reshape(10000, 784)\n",
        "\n",
        "knn.fit(x_train_knn3, y_train)\n",
        "print(knn.score(x_test_knn3, y_test))"
      ],
      "metadata": {
        "colab": {
          "base_uri": "https://localhost:8080/"
        },
        "id": "SCBFiK7Anr7T",
        "outputId": "e64c18df-6dd1-4433-f0a1-2582c46b473f"
      },
      "execution_count": 46,
      "outputs": [
        {
          "output_type": "stream",
          "name": "stdout",
          "text": [
            "0.9705\n"
          ]
        }
      ]
    },
    {
      "cell_type": "markdown",
      "source": [
        "Reshape the data for usage in the classifier for 3 neighbours, run the classifier and present the accuracy after testing with the initial data.\n",
        "\n",
        "(Time taken: 46s)"
      ],
      "metadata": {
        "id": "M3BH5fWdv-Rs"
      }
    },
    {
      "cell_type": "code",
      "source": [
        "clf = NearestCentroid()\n",
        "\n",
        "x_train_clf = x_train.reshape(60000, 784)\n",
        "x_test_clf = x_test.reshape(10000, 784)\n",
        "clf.fit(x_train_clf, y_train)\n",
        "NearestCentroid()\n",
        "print(clf.score(x_test_clf,y_test))\n"
      ],
      "metadata": {
        "colab": {
          "base_uri": "https://localhost:8080/"
        },
        "id": "oIJ7a4-foKM-",
        "outputId": "351330e8-1866-468a-c11a-8fe39bc6ab39"
      },
      "execution_count": 47,
      "outputs": [
        {
          "output_type": "stream",
          "name": "stdout",
          "text": [
            "0.8203\n"
          ]
        }
      ]
    },
    {
      "cell_type": "markdown",
      "source": [
        "Reshape the data for usage in the classifier for finding the nearest centroids, run the classifier and present the accuracy after testing with the initial data.\n",
        "\n",
        "(Time taken: 1s)"
      ],
      "metadata": {
        "id": "XVi4MY8KwLyu"
      }
    },
    {
      "cell_type": "code",
      "source": [
        "knn = KNeighborsClassifier(n_neighbors=5)\n",
        "\n",
        "x_train_knn5 = x_train.reshape(60000, 784)\n",
        "x_test_knn5 = x_test.reshape(10000, 784)\n",
        "\n",
        "knn.fit(x_train_knn5, y_train)\n",
        "print(knn.score(x_test_knn5, y_test))"
      ],
      "metadata": {
        "colab": {
          "base_uri": "https://localhost:8080/"
        },
        "id": "fTtVtqQao4Ar",
        "outputId": "d1f82679-c3aa-498a-e4b2-e68b39b38f4c"
      },
      "execution_count": 48,
      "outputs": [
        {
          "output_type": "stream",
          "name": "stdout",
          "text": [
            "0.9688\n"
          ]
        }
      ]
    },
    {
      "cell_type": "markdown",
      "source": [
        "Reshape the data for usage in the classifier for 5 neighbours, run the classifier and present the accuracy after testing with the initial data.\n",
        "\n",
        "(Time taken: 39s)"
      ],
      "metadata": {
        "id": "3fuegpL4wIuX"
      }
    },
    {
      "cell_type": "code",
      "source": [
        "knn = KNeighborsClassifier(n_neighbors=7)\n",
        "\n",
        "x_train_knn7 = x_train.reshape(60000, 784)\n",
        "x_test_knn7 = x_test.reshape(10000, 784)\n",
        "\n",
        "knn.fit(x_train_knn7, y_train)\n",
        "print(knn.score(x_test_knn7, y_test))"
      ],
      "metadata": {
        "colab": {
          "base_uri": "https://localhost:8080/"
        },
        "id": "ad1B4lWQo3rZ",
        "outputId": "e1c72865-1884-4b02-d337-be686992f2f1"
      },
      "execution_count": 49,
      "outputs": [
        {
          "output_type": "stream",
          "name": "stdout",
          "text": [
            "0.9694\n"
          ]
        }
      ]
    },
    {
      "cell_type": "markdown",
      "source": [
        "Reshape the data for usage in the classifier for 7 neighbours, run the classifier and present the accuracy after testing with the initial data.\n",
        "\n",
        "(Time taken: 41)"
      ],
      "metadata": {
        "id": "AwEPejIdwKbT"
      }
    },
    {
      "cell_type": "code",
      "source": [
        "from keras.models import Sequential\n",
        "from tensorflow.keras.layers import Dense, Dropout, Flatten\n",
        "from tensorflow.keras.models import Sequential\n",
        "from tensorflow.keras.layers import Conv2D, MaxPooling2D\n"
      ],
      "metadata": {
        "id": "BLGioKr9mRD9"
      },
      "execution_count": 2,
      "outputs": []
    },
    {
      "cell_type": "code",
      "source": [
        "x_train_model1 = x_train.reshape(60000,784)\n",
        "x_test_model1 = x_test.reshape(10000,784)\n"
      ],
      "metadata": {
        "id": "HqUzAkaypTBm"
      },
      "execution_count": 14,
      "outputs": []
    },
    {
      "cell_type": "markdown",
      "source": [
        "we reshape the train and test data from 2 dimensional images in 1 dimensional arrays to 1 dimensional image data from the pixels of the images in 1 dimensional arrays"
      ],
      "metadata": {
        "id": "OlkgZlfhp9Om"
      }
    },
    {
      "cell_type": "code",
      "source": [
        "model = Sequential()\n",
        "model.add(Dense(32, input_shape=x_train_model1[0].shape))"
      ],
      "metadata": {
        "id": "VrvtLZYT0_7k"
      },
      "execution_count": 15,
      "outputs": []
    },
    {
      "cell_type": "markdown",
      "source": [
        "Adding Sequential() defines a neuron network model that follows the classic sequential layer strucutre.\n",
        "\n",
        "We then add a dense layer to the model, which defines simple neurons\n",
        "\n",
        "input_shape defines the input type (more or less the pixel size and dimensions) of the neural network\n",
        "\n",
        "32 defines that the first layer (after the input) will have 32 neurons. It is interchangeable.\n",
        "\n",
        "Dense defiens the type of layer and adds to the network a dense type of layer which means the neurons do not run convolutions and take the general weights from the previous layers till the current layer and also share these weights to the next layers. The weights are given through back propagation run automatically.\n",
        "\n",
        "(every neuron is a filter in which when we run a convolution with its input the result is an image)"
      ],
      "metadata": {
        "id": "uQS-eHGjnDw9"
      }
    },
    {
      "cell_type": "code",
      "source": [
        "model.add(Dense(64, activation='relu'))\n",
        "model.add(Dense(64, activation='relu'))\n",
        "model.add(Dense(32, activation='relu'))"
      ],
      "metadata": {
        "id": "EFH9BEfQp8wO"
      },
      "execution_count": 16,
      "outputs": []
    },
    {
      "cell_type": "markdown",
      "source": [
        "In the same sense we add 3 sequential layers of 64 neurons for the first 2 and 32 for the third. we do not need to add more layers for this dataset but we will add more to see through trial and error which neuron network type and layer we gain the best results. The results show accuracy of the network for image classification.\n",
        "\n",
        "The starting numbers are experimental\n",
        "\n",
        "We move through layers by multiplying the input with respective weights to define each neuron.\n",
        "Each neuron has a defining number that comes from multiplying the input with respective weights from previous and current layers.\n",
        "\n",
        "Layers are connected through synapses between neurons of different layers\n",
        "\n",
        "When every synapse from the previous layer arrives on each neuron from the new layer, we multiply said synapses with each respective synapse's weight, The multiplication occurs inside the neuron. \n",
        "[image1.png]\n",
        "\n",
        "The activation module defines that after the multiplication process (the x values with the w weights) we take the results and input them on said module. In this situation it is defined as the relu function which states:\n",
        "y=x, for x > 0\n",
        "y=0, for x <= 0\n",
        "\n",
        "we do this so that we can assign values to each neuron to see how important it is on the layer. For example in relu a neuron with a not so important x (below 0) takes the value 0 on itself assigningi t as non-important for the network, whereas others continue as normal.\n",
        "\n",
        " We use simple relu because it runs and works fine without problems after trials and errors."
      ],
      "metadata": {
        "id": "G3o5wRDPqgHk"
      }
    },
    {
      "cell_type": "code",
      "source": [
        "model.add(Dense(10, activation = 'softmax'))"
      ],
      "metadata": {
        "id": "Ygi2fUF0vBiG"
      },
      "execution_count": 17,
      "outputs": []
    },
    {
      "cell_type": "markdown",
      "source": [
        "A the end of the network we add a final layer of 10 neurons because mnist has 10 classes as a result of each image classification (from 0 through 9) and each neuron contains a percentage that represents the chance said image to be classifies on the respective class (0 through 9). \n",
        "\n",
        "For example if the highest value neruon in the final layer is classified as 6, the network predicts the input as being number 6.\n",
        "\n",
        "[image2.png]\n",
        "(we used to use sigmoid in the past and we could use it on the current network, but it is not used since relu has given us better results through trial and error)\n",
        "We use softmax [image3.png] which is a complex activation function that currently through trial and error has empirically given us the highest multinomial probability distribution results. Said results are used on the final layer to give us values from 0 through 1 as a percentage on each neuron in which a classification occurs succesfully."
      ],
      "metadata": {
        "id": "yY81l47mvGv5"
      }
    },
    {
      "cell_type": "code",
      "source": [
        "model.compile(loss=tf.keras.losses.sparse_categorical_crossentropy, optimizer='Adam', metrics=['sparse_categorical_accuracy'])"
      ],
      "metadata": {
        "id": "mVOK2rt0wu3e"
      },
      "execution_count": 18,
      "outputs": []
    },
    {
      "cell_type": "markdown",
      "source": [
        "(straight answer as to why specific methods are used, is because it has been tried and used and works).\n",
        "\n",
        "compilation defines the loss function, optimizer and metrics for running the network.\n",
        "\n",
        "after running the network and fitting it (see beloew on new text) the results at the end after all the layers are random. Inside the neuron network nobody really knows what happens as it is getting trained (it is impossible to know). \n",
        "\n",
        "Through the loss function we define how accurate (and wrong) the predictions of the network are. (comparison between outputs of the x_train data and the y_train result data)\n",
        "We use crossentropy experimentally.\n",
        "\n",
        "The metrics define the type of data we use for the accuracy of the outcomes. We use sparse categrical accuracy for ease of use.\n",
        "\n",
        "The optimizer function takes the loss function and tries to train the network according to the loss. Adam is an algorithm that tries to find the minimum loss. "
      ],
      "metadata": {
        "id": "_vcLHM9bw2_V"
      }
    },
    {
      "cell_type": "code",
      "source": [
        "history = model.fit(x_train_model1, y_train, batch_size=32, epochs = 5, validation_data=(x_test_model1, y_test),shuffle=True)"
      ],
      "metadata": {
        "colab": {
          "base_uri": "https://localhost:8080/"
        },
        "id": "ds-tZxcwzVFz",
        "outputId": "f2442401-1300-486c-c9c4-254cbefa7091"
      },
      "execution_count": 12,
      "outputs": [
        {
          "output_type": "stream",
          "name": "stdout",
          "text": [
            "Epoch 1/5\n",
            "1875/1875 [==============================] - 6s 3ms/step - loss: 0.8951 - sparse_categorical_accuracy: 0.7998 - val_loss: 0.3937 - val_sparse_categorical_accuracy: 0.9001\n",
            "Epoch 2/5\n",
            "1875/1875 [==============================] - 5s 3ms/step - loss: 0.2891 - sparse_categorical_accuracy: 0.9222 - val_loss: 0.3004 - val_sparse_categorical_accuracy: 0.9180\n",
            "Epoch 3/5\n",
            "1875/1875 [==============================] - 5s 3ms/step - loss: 0.2174 - sparse_categorical_accuracy: 0.9402 - val_loss: 0.2091 - val_sparse_categorical_accuracy: 0.9436\n",
            "Epoch 4/5\n",
            "1875/1875 [==============================] - 5s 3ms/step - loss: 0.1764 - sparse_categorical_accuracy: 0.9495 - val_loss: 0.1767 - val_sparse_categorical_accuracy: 0.9537\n",
            "Epoch 5/5\n",
            "1875/1875 [==============================] - 5s 3ms/step - loss: 0.1578 - sparse_categorical_accuracy: 0.9550 - val_loss: 0.1760 - val_sparse_categorical_accuracy: 0.9528\n"
          ]
        }
      ]
    },
    {
      "cell_type": "markdown",
      "source": [
        "We fit the data from the train data set (x_train) and the expected results (y_train).\n",
        "Fit is the function that trains the data, in which it takes the input and tries through said compilation of the network to achieve best weights for most accurate results. It uses back-propagation\n",
        "\n",
        "Epochs define the number of repetitions.\n",
        "\n",
        "Batch size defines th number of parallel runs we can have on a network for faster results, since it can be paralellized.\n",
        "\n",
        "validation data defines testing data on the network after it has been trained. A network can be trained an infinite number of times on a train data but only through test data can we truly find the accuracy of the training, (x_test defines the data to be tested y_test the expected results).\n",
        "\n",
        "shuffle defines whether we want to shuffle the train data or not (and test data) so that the network does not leanr (or does) the order in which the data is given (so it cannot predict the same numbers without being trained)."
      ],
      "metadata": {
        "id": "ke0gFLrEzY7Y"
      }
    },
    {
      "cell_type": "code",
      "source": [
        "# plot loss\n",
        "from matplotlib import pyplot\n",
        "pyplot.subplot(211)\n",
        "pyplot.title('Cross Entropy Loss')\n",
        "pyplot.plot(history.history['loss'], color='blue', label='train')\n",
        "pyplot.plot(history.history['val_loss'], color='orange', label='test')\n",
        "# plot accuracy\n",
        "pyplot.subplot(212)\n",
        "pyplot.title('Classification Accuracy')\n",
        "pyplot.plot(history.history['sparse_categorical_accuracy'], color='blue', label='train')\n",
        "pyplot.plot(history.history['val_sparse_categorical_accuracy'], color='orange', label='test')\n",
        "# save plot to file\n",
        "# filename = sys.argv[0].split('/')[-1]\n",
        "# pyplot.savefig(filename + '_plot.png')\n",
        "pyplot.show()\n",
        "pyplot.close()"
      ],
      "metadata": {
        "colab": {
          "base_uri": "https://localhost:8080/",
          "height": 281
        },
        "id": "nlHH4hZV1iF0",
        "outputId": "81f3df47-e845-4238-e5e2-53527d31d6c2"
      },
      "execution_count": null,
      "outputs": [
        {
          "output_type": "display_data",
          "data": {
            "text/plain": [
              "<Figure size 432x288 with 2 Axes>"
            ],
            "image/png": "[encoded data removed]"
          },
          "metadata": {
            "needs_background": "light"
          }
        }
      ]
    },
    {
      "cell_type": "markdown",
      "source": [
        "Through the results we can observe the loss radically declining on the first iteration and then gradually becoming lower, and the accuracy greatly becoming better after 1 iteration and gradually becoming better.\n",
        "\n",
        "The results took around 26s.\n",
        "\n",
        "We can see the results in the above plot. Loss is the first and accuracy the last. (orange shows test data and blue the train data)\n",
        "We do not observe any overtraining with the current epoch count (which would lower the accuracy)\n",
        "\n",
        "we can now test for a different amount of neurons, layers, and epochs to observe how the results differ."
      ],
      "metadata": {
        "id": "r_J-Gx_C1Q5w"
      }
    },
    {
      "cell_type": "code",
      "source": [
        "x_train_model1_1 = x_train.reshape(60000,784)\n",
        "x_test_model1_1 = x_test.reshape(10000,784)\n",
        "model1_1 = Sequential()\n",
        "model1_1.add(Dense(32, input_shape=x_train_model1[0].shape))\n",
        "model1_1.add(Dense(64, activation='relu'))\n",
        "model1_1.add(Dense(64, activation='relu'))\n",
        "model1_1.add(Dense(128, activation='relu'))\n",
        "model1_1.add(Dense(64, activation='relu'))\n",
        "model1_1.add(Dense(64, activation='relu'))\n",
        "model1_1.add(Dense(32, activation='relu'))\n",
        "model1_1.add(Dense(10, activation = 'softmax'))\n",
        "model1_1.compile(loss=tf.keras.losses.sparse_categorical_crossentropy, optimizer='Adam', metrics=['sparse_categorical_accuracy'])\n",
        "\n",
        "history1_1 = model1_1.fit(x_train_model1_1, y_train, batch_size=32, epochs = 10, validation_data=(x_test_model1_1, y_test),shuffle=True)"
      ],
      "metadata": {
        "colab": {
          "base_uri": "https://localhost:8080/"
        },
        "id": "BBQn86_p9BvN",
        "outputId": "623b50c0-cfe8-434e-8393-cdc27d5fcf98"
      },
      "execution_count": 53,
      "outputs": [
        {
          "output_type": "stream",
          "name": "stdout",
          "text": [
            "Epoch 1/10\n",
            "1875/1875 [==============================] - 7s 3ms/step - loss: 0.5081 - sparse_categorical_accuracy: 0.8583 - val_loss: 0.2416 - val_sparse_categorical_accuracy: 0.9305\n",
            "Epoch 2/10\n",
            "1875/1875 [==============================] - 6s 3ms/step - loss: 0.2201 - sparse_categorical_accuracy: 0.9385 - val_loss: 0.2084 - val_sparse_categorical_accuracy: 0.9406\n",
            "Epoch 3/10\n",
            "1875/1875 [==============================] - 7s 4ms/step - loss: 0.1741 - sparse_categorical_accuracy: 0.9517 - val_loss: 0.1640 - val_sparse_categorical_accuracy: 0.9527\n",
            "Epoch 4/10\n",
            "1875/1875 [==============================] - 7s 4ms/step - loss: 0.1502 - sparse_categorical_accuracy: 0.9578 - val_loss: 0.1542 - val_sparse_categorical_accuracy: 0.9602\n",
            "Epoch 5/10\n",
            "1875/1875 [==============================] - 10s 5ms/step - loss: 0.1295 - sparse_categorical_accuracy: 0.9637 - val_loss: 0.1465 - val_sparse_categorical_accuracy: 0.9623\n",
            "Epoch 6/10\n",
            "1875/1875 [==============================] - 6s 3ms/step - loss: 0.1198 - sparse_categorical_accuracy: 0.9666 - val_loss: 0.1617 - val_sparse_categorical_accuracy: 0.9604\n",
            "Epoch 7/10\n",
            "1875/1875 [==============================] - 6s 3ms/step - loss: 0.1045 - sparse_categorical_accuracy: 0.9703 - val_loss: 0.1221 - val_sparse_categorical_accuracy: 0.9679\n",
            "Epoch 8/10\n",
            "1875/1875 [==============================] - 6s 3ms/step - loss: 0.1018 - sparse_categorical_accuracy: 0.9718 - val_loss: 0.1148 - val_sparse_categorical_accuracy: 0.9693\n",
            "Epoch 9/10\n",
            "1875/1875 [==============================] - 6s 3ms/step - loss: 0.0958 - sparse_categorical_accuracy: 0.9731 - val_loss: 0.1443 - val_sparse_categorical_accuracy: 0.9601\n",
            "Epoch 10/10\n",
            "1875/1875 [==============================] - 8s 4ms/step - loss: 0.0905 - sparse_categorical_accuracy: 0.9748 - val_loss: 0.1189 - val_sparse_categorical_accuracy: 0.9672\n"
          ]
        }
      ]
    },
    {
      "cell_type": "markdown",
      "source": [
        "In this experiment we will create a network with more layers and higher neuron count as well with more epochs as an experiment for better results. Obviously since the training passes though more neurons which equals higher multiplication count as well as layers, each epoch takes more time. \n",
        "(Time taken: 1m)\n"
      ],
      "metadata": {
        "id": "4rEIhR3kBQul"
      }
    },
    {
      "cell_type": "code",
      "source": [
        "# plot loss\n",
        "from matplotlib import pyplot\n",
        "pyplot.subplot(211)\n",
        "pyplot.title('Cross Entropy Loss')\n",
        "pyplot.plot(history1_1.history['loss'], color='blue', label='train')\n",
        "pyplot.plot(history1_1.history['val_loss'], color='orange', label='test')\n",
        "# plot accuracy\n",
        "pyplot.subplot(212)\n",
        "pyplot.title('Classification Accuracy')\n",
        "pyplot.plot(history1_1.history['sparse_categorical_accuracy'], color='blue', label='train')\n",
        "pyplot.plot(history1_1.history['val_sparse_categorical_accuracy'], color='orange', label='test')\n",
        "# save plot to file\n",
        "# filename = sys.argv[0].split('/')[-1]\n",
        "# pyplot.savefig(filename + '_plot.png')\n",
        "pyplot.show()\n",
        "pyplot.close()"
      ],
      "metadata": {
        "colab": {
          "base_uri": "https://localhost:8080/",
          "height": 281
        },
        "id": "pGZc8qCOBzcE",
        "outputId": "22daf316-36ef-4f58-93da-2014500b1b2e"
      },
      "execution_count": 55,
      "outputs": [
        {
          "output_type": "display_data",
          "data": {
            "text/plain": [
              "<Figure size 432x288 with 2 Axes>"
            ],
            "image/png": "[encoded data removed]"
          },
          "metadata": {
            "needs_background": "light"
          }
        }
      ]
    },
    {
      "cell_type": "markdown",
      "source": [
        "We can observe something interesting from the results. We can reach higher accuracies faster than the initial network on the train data and also observe some overtraining by the 8th epoch. The network has learnt the pattern of the training data itself and so the test data results in accuracy gradually begin to worsen even though the accuracy for the training set increases."
      ],
      "metadata": {
        "id": "uJ1Y9EwiCQ05"
      }
    },
    {
      "cell_type": "code",
      "source": [
        "x_train_model2 = x_train.reshape(60000, 28, 28, 1)\n",
        "x_test_model2 = x_test.reshape(10000, 28, 28, 1)\n",
        "\n",
        "\n",
        "model2 = Sequential()\n",
        "model2.add(Conv2D(16, (2,2), activation = 'relu',padding=\"SAME\", input_shape = x_train_model2[0].shape))\n",
        "model2.add(MaxPooling2D(pool_size=(2,2)))\n",
        "model2.add(Conv2D(64, (2,2), activation = 'relu',padding=\"SAME\"))\n",
        "model2.add(MaxPooling2D(pool_size=(2,2)))\n",
        "model2.add(Conv2D(64, (2,2), activation = 'relu',padding=\"SAME\"))\n",
        "model2.add(MaxPooling2D(pool_size=(2,2)))\n",
        "model2.add(Conv2D(32, (2,2), activation = 'relu',padding=\"SAME\"))\n",
        "model2.add(MaxPooling2D(pool_size=(2,2)))\n",
        "model2.add(Dropout(0.1))\n",
        "model2.add(Flatten())\n",
        "model2.add(Dense(10, activation = 'softmax'))\n",
        "model2.compile(loss=tf.keras.losses.sparse_categorical_crossentropy, optimizer='Adam', metrics=['sparse_categorical_accuracy'])"
      ],
      "metadata": {
        "id": "uyje6AZi2EKf"
      },
      "execution_count": null,
      "outputs": []
    },
    {
      "cell_type": "markdown",
      "source": [
        "We can now make a second neural network, which instead of dense layers, it uses 2d image convolution layers. As such we can observe the differences between a simple layer (like a dense layer) and a convolution layer, which uses convolutions on the input photos, which use some special characteristics the images have and finds certain unique patterns that can be used for better training.\n",
        "\n",
        "(for example the netwrok may find unique curves that define a certain number within an image for better classification) \n",
        "\n",
        "other that that the layer additions are the same. The kernel is a 2x2 array (which is defined as 2,2) in which the convolution is applied.\n",
        "We add a padding so that we can add extra pixels around an image so that the kernel is used correctly on every pixel.\n",
        "These extra pixels have the assigned value of their nearest pixel, as defined by the \"SAME\" module.\n",
        "\n",
        "Flatten() essentially transforms each multidimensional output of each layer into a monodimensional array as input for the next layer.\n",
        "\n",
        "Dropout helps with overtraining as it deletes certain synapses that burden the network and make it repetitive. In other words it makes the weights of random weights inside a layer to be deleted. We set it to 10% of all results currently experimentally (0.1)\n",
        "\n",
        "we reshape the data so they get represented as colored images (last value is the rgb value)"
      ],
      "metadata": {
        "id": "6XVEnnn_2X6J"
      }
    },
    {
      "cell_type": "code",
      "source": [
        "history2 = model2.fit(x_train_model2, y_train, batch_size=32, epochs = 5, validation_data=(x_test_model2, y_test),shuffle=True)"
      ],
      "metadata": {
        "colab": {
          "base_uri": "https://localhost:8080/"
        },
        "id": "_HjiN5eL5GZz",
        "outputId": "39b6d9eb-cf42-40d5-a446-da838a775fd7"
      },
      "execution_count": null,
      "outputs": [
        {
          "output_type": "stream",
          "name": "stdout",
          "text": [
            "Epoch 1/5\n",
            "1875/1875 [==============================] - 54s 28ms/step - loss: 0.5925 - sparse_categorical_accuracy: 0.8543 - val_loss: 0.1217 - val_sparse_categorical_accuracy: 0.9642\n",
            "Epoch 2/5\n",
            "1875/1875 [==============================] - 66s 35ms/step - loss: 0.1564 - sparse_categorical_accuracy: 0.9522 - val_loss: 0.0730 - val_sparse_categorical_accuracy: 0.9766\n",
            "Epoch 3/5\n",
            "1875/1875 [==============================] - 64s 34ms/step - loss: 0.1099 - sparse_categorical_accuracy: 0.9667 - val_loss: 0.0673 - val_sparse_categorical_accuracy: 0.9811\n",
            "Epoch 4/5\n",
            "1875/1875 [==============================] - 70s 37ms/step - loss: 0.0856 - sparse_categorical_accuracy: 0.9743 - val_loss: 0.0471 - val_sparse_categorical_accuracy: 0.9859\n",
            "Epoch 5/5\n",
            "1875/1875 [==============================] - 69s 37ms/step - loss: 0.0712 - sparse_categorical_accuracy: 0.9779 - val_loss: 0.0759 - val_sparse_categorical_accuracy: 0.9760\n"
          ]
        }
      ]
    },
    {
      "cell_type": "markdown",
      "source": [
        "The results are really good and very accurate, although obviously they take a lot of time. We do not need to apply PCA or FFT since convoluton applies equally as good or even better features"
      ],
      "metadata": {
        "id": "iGpqDZp_5380"
      }
    },
    {
      "cell_type": "code",
      "source": [
        "# plot loss\n",
        "from matplotlib import pyplot\n",
        "pyplot.subplot(211)\n",
        "pyplot.title('Cross Entropy Loss')\n",
        "pyplot.plot(history2.history['loss'], color='blue', label='train')\n",
        "pyplot.plot(history2.history['val_loss'], color='orange', label='test')\n",
        "# plot accuracy\n",
        "pyplot.subplot(212)\n",
        "pyplot.title('Classification Accuracy')\n",
        "pyplot.plot(history2.history['sparse_categorical_accuracy'], color='blue', label='train')\n",
        "pyplot.plot(history2.history['val_sparse_categorical_accuracy'], color='orange', label='test')\n",
        "# save plot to file\n",
        "# filename = sys.argv[0].split('/')[-1]\n",
        "# pyplot.savefig(filename + '_plot.png')\n",
        "pyplot.show()\n",
        "pyplot.close()"
      ],
      "metadata": {
        "colab": {
          "base_uri": "https://localhost:8080/",
          "height": 281
        },
        "id": "hUouSrIm6QT8",
        "outputId": "73573e3a-8db5-4e86-cdd8-0e3aa0479b16"
      },
      "execution_count": null,
      "outputs": [
        {
          "output_type": "display_data",
          "data": {
            "text/plain": [
              "<Figure size 432x288 with 2 Axes>"
            ],
            "image/png": "[encoded data removed]"
          },
          "metadata": {
            "needs_background": "light"
          }
        }
      ]
    },
    {
      "cell_type": "markdown",
      "source": [
        "The results are really good, so much so that in just 5 epochs we can observe overtraining in the final repetition, even though we added ropout to the mix and fewer layers than the dense model."
      ],
      "metadata": {
        "id": "vImpY2Zv6fju"
      }
    },
    {
      "cell_type": "code",
      "source": [
        "x_train_model2_1 = x_train.reshape(60000, 28, 28, 1)\n",
        "x_test_model2_1 = x_test.reshape(10000, 28, 28, 1)\n",
        "\n",
        "\n",
        "model2_1 = Sequential()\n",
        "model2_1.add(Conv2D(16, (2,2), activation = 'relu',padding=\"SAME\", input_shape = x_train_model2_1[0].shape))\n",
        "model2_1.add(MaxPooling2D(pool_size=(2,2)))\n",
        "model2_1.add(Conv2D(64, (2,2), activation = 'relu',padding=\"SAME\"))\n",
        "model2_1.add(MaxPooling2D(pool_size=(2,2)))\n",
        "model2_1.add(Conv2D(128, (2,2), activation = 'relu',padding=\"SAME\"))\n",
        "model2_1.add(MaxPooling2D(pool_size=(2,2)))\n",
        "model2_1.add(Conv2D(64, (2,2), activation = 'relu',padding=\"SAME\"))\n",
        "model2_1.add(MaxPooling2D(pool_size=(2,2)))\n",
        "model2_1.add(Dropout(0.4))\n",
        "model2_1.add(Flatten())\n",
        "model2_1.add(Dense(10, activation = 'softmax'))\n",
        "model2_1.compile(loss=tf.keras.losses.sparse_categorical_crossentropy, optimizer='Adam', metrics=['sparse_categorical_accuracy'])\n",
        "\n",
        "history2_1 = model2_1.fit(x_train_model2_1, y_train, batch_size=32, epochs = 10, validation_data=(x_test_model2_1, y_test),shuffle=True)"
      ],
      "metadata": {
        "id": "05rHaUiO5ko_",
        "colab": {
          "base_uri": "https://localhost:8080/"
        },
        "outputId": "dcb98bc1-e79d-4132-f139-718543ca057b"
      },
      "execution_count": 34,
      "outputs": [
        {
          "output_type": "stream",
          "name": "stdout",
          "text": [
            "Epoch 1/10\n",
            "1875/1875 [==============================] - 65s 35ms/step - loss: 0.8167 - sparse_categorical_accuracy: 0.7350 - val_loss: 0.1126 - val_sparse_categorical_accuracy: 0.9688\n",
            "Epoch 2/10\n",
            "1875/1875 [==============================] - 64s 34ms/step - loss: 0.2473 - sparse_categorical_accuracy: 0.9216 - val_loss: 0.0818 - val_sparse_categorical_accuracy: 0.9755\n",
            "Epoch 3/10\n",
            "1875/1875 [==============================] - 66s 35ms/step - loss: 0.1510 - sparse_categorical_accuracy: 0.9542 - val_loss: 0.0612 - val_sparse_categorical_accuracy: 0.9812\n",
            "Epoch 4/10\n",
            "1875/1875 [==============================] - 65s 35ms/step - loss: 0.1188 - sparse_categorical_accuracy: 0.9649 - val_loss: 0.0595 - val_sparse_categorical_accuracy: 0.9823\n",
            "Epoch 5/10\n",
            "1875/1875 [==============================] - 65s 35ms/step - loss: 0.0961 - sparse_categorical_accuracy: 0.9720 - val_loss: 0.0457 - val_sparse_categorical_accuracy: 0.9864\n",
            "Epoch 6/10\n",
            "1875/1875 [==============================] - 66s 35ms/step - loss: 0.0836 - sparse_categorical_accuracy: 0.9756 - val_loss: 0.0494 - val_sparse_categorical_accuracy: 0.9849\n",
            "Epoch 7/10\n",
            "1875/1875 [==============================] - 63s 34ms/step - loss: 0.0719 - sparse_categorical_accuracy: 0.9786 - val_loss: 0.0436 - val_sparse_categorical_accuracy: 0.9873\n",
            "Epoch 8/10\n",
            "1875/1875 [==============================] - 64s 34ms/step - loss: 0.0657 - sparse_categorical_accuracy: 0.9815 - val_loss: 0.0368 - val_sparse_categorical_accuracy: 0.9896\n",
            "Epoch 9/10\n",
            "1875/1875 [==============================] - 65s 35ms/step - loss: 0.0634 - sparse_categorical_accuracy: 0.9809 - val_loss: 0.0376 - val_sparse_categorical_accuracy: 0.9899\n",
            "Epoch 10/10\n",
            "1875/1875 [==============================] - 76s 40ms/step - loss: 0.0562 - sparse_categorical_accuracy: 0.9832 - val_loss: 0.0424 - val_sparse_categorical_accuracy: 0.9884\n"
          ]
        }
      ]
    },
    {
      "cell_type": "markdown",
      "source": [
        "We will conduct another convolution with 2D image on a 2 by 2 kernel as an experiment but with higher neuron count and much higher dropout percentage (40%). We wil lalso increase the epochs to 10. This will greatly increase the time taken (final time taken: 10 m)"
      ],
      "metadata": {
        "id": "rhJsx8RS5lk5"
      }
    },
    {
      "cell_type": "code",
      "source": [
        "# plot loss\n",
        "from matplotlib import pyplot\n",
        "pyplot.subplot(211)\n",
        "pyplot.title('Cross Entropy Loss')\n",
        "pyplot.plot(history2_1.history['loss'], color='blue', label='train')\n",
        "pyplot.plot(history2_1.history['val_loss'], color='orange', label='test')\n",
        "# plot accuracy\n",
        "pyplot.subplot(212)\n",
        "pyplot.title('Classification Accuracy')\n",
        "pyplot.plot(history2_1.history['sparse_categorical_accuracy'], color='blue', label='train')\n",
        "pyplot.plot(history2_1.history['val_sparse_categorical_accuracy'], color='orange', label='test')\n",
        "# save plot to file\n",
        "# filename = sys.argv[0].split('/')[-1]\n",
        "# pyplot.savefig(filename + '_plot.png')\n",
        "pyplot.show()\n",
        "pyplot.close()"
      ],
      "metadata": {
        "colab": {
          "base_uri": "https://localhost:8080/",
          "height": 281
        },
        "id": "RUvSDEADDW9_",
        "outputId": "7ceb0541-9d79-4cf1-d7b4-c8577f5add70"
      },
      "execution_count": 35,
      "outputs": [
        {
          "output_type": "display_data",
          "data": {
            "text/plain": [
              "<Figure size 432x288 with 2 Axes>"
            ],
            "image/png": "[encoded data removed]"
          },
          "metadata": {
            "needs_background": "light"
          }
        }
      ]
    },
    {
      "cell_type": "markdown",
      "source": [
        "We can observe that the network rarely gets overtrained due to high dropout rate and the overall accuracy is increased due to the incresed factors as stated above, with maximum accuracy of 99%."
      ],
      "metadata": {
        "id": "A1ikLsY0JGH1"
      }
    },
    {
      "cell_type": "code",
      "source": [
        "x_train_model2_2 = x_train.reshape(60000, 28, 28, 1)\n",
        "x_test_model2_2 = x_test.reshape(10000, 28, 28, 1)\n",
        "\n",
        "\n",
        "model2_2 = Sequential()\n",
        "model2_2.add(Conv2D(64, (2,2), activation = 'relu',padding=\"SAME\", input_shape = x_train_model2_2[0].shape))\n",
        "model2_2.add(MaxPooling2D(pool_size=(2,2)))\n",
        "model2_2.add(Conv2D(128, (2,2), activation = 'relu',padding=\"SAME\"))\n",
        "model2_2.add(MaxPooling2D(pool_size=(2,2)))\n",
        "model2_2.add(Conv2D(128, (2,2), activation = 'relu',padding=\"SAME\"))\n",
        "model2_2.add(MaxPooling2D(pool_size=(2,2)))\n",
        "model2_2.add(Conv2D(64, (2,2), activation = 'relu',padding=\"SAME\"))\n",
        "model2_2.add(MaxPooling2D(pool_size=(2,2)))\n",
        "model2_2.add(Dropout(0.4))\n",
        "model2_2.add(Flatten())\n",
        "model2_2.add(Dense(10, activation = 'softmax'))\n",
        "model2_2.compile(loss=tf.keras.losses.sparse_categorical_crossentropy, optimizer='Adam', metrics=['sparse_categorical_accuracy'])\n",
        "\n",
        "history2_2 = model2_2.fit(x_train_model2_2, y_train, batch_size=32, epochs = 5, validation_data=(x_test_model2_2, y_test),shuffle=True)"
      ],
      "metadata": {
        "colab": {
          "base_uri": "https://localhost:8080/"
        },
        "id": "ROzcU20-JYxu",
        "outputId": "d2056e2e-3767-4cff-b187-684e64797bfe"
      },
      "execution_count": 38,
      "outputs": [
        {
          "output_type": "stream",
          "name": "stdout",
          "text": [
            "Epoch 1/5\n",
            "1875/1875 [==============================] - 149s 79ms/step - loss: 0.7241 - sparse_categorical_accuracy: 0.7732 - val_loss: 0.0923 - val_sparse_categorical_accuracy: 0.9730\n",
            "Epoch 2/5\n",
            "1875/1875 [==============================] - 146s 78ms/step - loss: 0.2079 - sparse_categorical_accuracy: 0.9374 - val_loss: 0.0587 - val_sparse_categorical_accuracy: 0.9817\n",
            "Epoch 3/5\n",
            "1875/1875 [==============================] - 171s 91ms/step - loss: 0.1418 - sparse_categorical_accuracy: 0.9564 - val_loss: 0.0536 - val_sparse_categorical_accuracy: 0.9849\n",
            "Epoch 4/5\n",
            "1875/1875 [==============================] - 168s 90ms/step - loss: 0.1113 - sparse_categorical_accuracy: 0.9669 - val_loss: 0.0519 - val_sparse_categorical_accuracy: 0.9835\n",
            "Epoch 5/5\n",
            "1875/1875 [==============================] - 176s 94ms/step - loss: 0.0917 - sparse_categorical_accuracy: 0.9718 - val_loss: 0.0439 - val_sparse_categorical_accuracy: 0.9871\n"
          ]
        }
      ]
    },
    {
      "cell_type": "markdown",
      "source": [
        "Since the 40% percentage seems to yield pretty good results, we will only increase the neuron count and leave the dropout rate the same. Since this process wil ltake a lot of time we will initially observe results for only 5 epochs instead of 10 as previously. (Final time taken: 14m)"
      ],
      "metadata": {
        "id": "sHorfLFrKYvj"
      }
    },
    {
      "cell_type": "code",
      "source": [
        "# plot loss\n",
        "from matplotlib import pyplot\n",
        "pyplot.subplot(211)\n",
        "pyplot.title('Cross Entropy Loss')\n",
        "pyplot.plot(history2_2.history['loss'], color='blue', label='train')\n",
        "pyplot.plot(history2_2.history['val_loss'], color='orange', label='test')\n",
        "# plot accuracy\n",
        "pyplot.subplot(212)\n",
        "pyplot.title('Classification Accuracy')\n",
        "pyplot.plot(history2_2.history['sparse_categorical_accuracy'], color='blue', label='train')\n",
        "pyplot.plot(history2_2.history['val_sparse_categorical_accuracy'], color='orange', label='test')\n",
        "# save plot to file\n",
        "# filename = sys.argv[0].split('/')[-1]\n",
        "# pyplot.savefig(filename + '_plot.png')\n",
        "pyplot.show()\n",
        "pyplot.close()"
      ],
      "metadata": {
        "colab": {
          "base_uri": "https://localhost:8080/",
          "height": 281
        },
        "id": "powcVyXVJryW",
        "outputId": "374930fa-effb-4b70-f89e-95f09391bd04"
      },
      "execution_count": 39,
      "outputs": [
        {
          "output_type": "display_data",
          "data": {
            "text/plain": [
              "<Figure size 432x288 with 2 Axes>"
            ],
            "image/png": "[encoded data removed]"
          },
          "metadata": {
            "needs_background": "light"
          }
        }
      ]
    },
    {
      "cell_type": "markdown",
      "source": [
        "As expected, we observe the results from the previous test to be reached within only 5 epochs, but with a much higher neuron count the final time taken is higher than previously. Nevertheless it is easy to determine that a higher neuron count increases the accuracy greatly and the dropout rate at 40% (with a little wiggle room) is really good at preventing overtraining. (Highest accuracy: 98.7%)"
      ],
      "metadata": {
        "id": "QORB6ABrN3y8"
      }
    },
    {
      "cell_type": "code",
      "source": [
        "x_train_model2_3 = x_train.reshape(60000, 28, 28, 1)\n",
        "x_test_model2_3 = x_test.reshape(10000, 28, 28, 1)\n",
        "\n",
        "\n",
        "model2_3 = Sequential()\n",
        "model2_3.add(Conv2D(16, (2,2), activation = 'relu',padding=\"SAME\", input_shape = x_train_model2_3[0].shape))\n",
        "model2_3.add(MaxPooling2D(pool_size=(2,2)))\n",
        "model2_3.add(Conv2D(64, (2,2), activation = 'relu',padding=\"SAME\"))\n",
        "model2_3.add(MaxPooling2D(pool_size=(2,2)))\n",
        "model2_3.add(Conv2D(64, (2,2), activation = 'relu',padding=\"SAME\"))\n",
        "model2_3.add(MaxPooling2D(pool_size=(2,2)))\n",
        "model2_3.add(Conv2D(32, (2,2), activation = 'relu',padding=\"SAME\"))\n",
        "model2_3.add(MaxPooling2D(pool_size=(2,2)))\n",
        "model2_3.add(Dropout(0.7))\n",
        "model2_3.add(Flatten())\n",
        "model2_3.add(Dense(10, activation = 'softmax'))\n",
        "model2_3.compile(loss=tf.keras.losses.sparse_categorical_crossentropy, optimizer='Adam', metrics=['sparse_categorical_accuracy'])\n",
        "\n",
        "history2_3 = model2_3.fit(x_train_model2_3, y_train, batch_size=32, epochs = 20, validation_data=(x_test_model2_3, y_test),shuffle=True)"
      ],
      "metadata": {
        "colab": {
          "base_uri": "https://localhost:8080/"
        },
        "id": "ONwCp4JiMakT",
        "outputId": "066dc58c-455e-4166-8152-49fa9b2f1d67"
      },
      "execution_count": 40,
      "outputs": [
        {
          "output_type": "stream",
          "name": "stdout",
          "text": [
            "Epoch 1/20\n",
            "1875/1875 [==============================] - 59s 30ms/step - loss: 2.3581 - sparse_categorical_accuracy: 0.1626 - val_loss: 2.0154 - val_sparse_categorical_accuracy: 0.2153\n",
            "Epoch 2/20\n",
            "1875/1875 [==============================] - 54s 29ms/step - loss: 2.1094 - sparse_categorical_accuracy: 0.1819 - val_loss: 1.8115 - val_sparse_categorical_accuracy: 0.2990\n",
            "Epoch 3/20\n",
            "1875/1875 [==============================] - 54s 29ms/step - loss: 1.9752 - sparse_categorical_accuracy: 0.2345 - val_loss: 1.5607 - val_sparse_categorical_accuracy: 0.4115\n",
            "Epoch 4/20\n",
            "1875/1875 [==============================] - 55s 29ms/step - loss: 1.7333 - sparse_categorical_accuracy: 0.3194 - val_loss: 1.2351 - val_sparse_categorical_accuracy: 0.5548\n",
            "Epoch 5/20\n",
            "1875/1875 [==============================] - 54s 29ms/step - loss: 1.5135 - sparse_categorical_accuracy: 0.4102 - val_loss: 0.8785 - val_sparse_categorical_accuracy: 0.7155\n",
            "Epoch 6/20\n",
            "1875/1875 [==============================] - 54s 29ms/step - loss: 1.2940 - sparse_categorical_accuracy: 0.4941 - val_loss: 0.6662 - val_sparse_categorical_accuracy: 0.8193\n",
            "Epoch 7/20\n",
            "1875/1875 [==============================] - 66s 35ms/step - loss: 1.1725 - sparse_categorical_accuracy: 0.5454 - val_loss: 0.5439 - val_sparse_categorical_accuracy: 0.9034\n",
            "Epoch 8/20\n",
            "1875/1875 [==============================] - 60s 32ms/step - loss: 1.0934 - sparse_categorical_accuracy: 0.5859 - val_loss: 0.4760 - val_sparse_categorical_accuracy: 0.9329\n",
            "Epoch 9/20\n",
            "1875/1875 [==============================] - 54s 29ms/step - loss: 1.0105 - sparse_categorical_accuracy: 0.6309 - val_loss: 0.3382 - val_sparse_categorical_accuracy: 0.9512\n",
            "Epoch 10/20\n",
            "1875/1875 [==============================] - 63s 34ms/step - loss: 0.9454 - sparse_categorical_accuracy: 0.6551 - val_loss: 0.3410 - val_sparse_categorical_accuracy: 0.9559\n",
            "Epoch 11/20\n",
            "1875/1875 [==============================] - 59s 31ms/step - loss: 0.9257 - sparse_categorical_accuracy: 0.6633 - val_loss: 0.3182 - val_sparse_categorical_accuracy: 0.9630\n",
            "Epoch 12/20\n",
            "1875/1875 [==============================] - 54s 29ms/step - loss: 0.8798 - sparse_categorical_accuracy: 0.6812 - val_loss: 0.2762 - val_sparse_categorical_accuracy: 0.9692\n",
            "Epoch 13/20\n",
            "1875/1875 [==============================] - 54s 29ms/step - loss: 0.8189 - sparse_categorical_accuracy: 0.7089 - val_loss: 0.2439 - val_sparse_categorical_accuracy: 0.9717\n",
            "Epoch 14/20\n",
            "1875/1875 [==============================] - 54s 29ms/step - loss: 0.7904 - sparse_categorical_accuracy: 0.7196 - val_loss: 0.2413 - val_sparse_categorical_accuracy: 0.9694\n",
            "Epoch 15/20\n",
            "1875/1875 [==============================] - 70s 37ms/step - loss: 0.7531 - sparse_categorical_accuracy: 0.7429 - val_loss: 0.2174 - val_sparse_categorical_accuracy: 0.9725\n",
            "Epoch 16/20\n",
            "1875/1875 [==============================] - 63s 34ms/step - loss: 0.7303 - sparse_categorical_accuracy: 0.7532 - val_loss: 0.2041 - val_sparse_categorical_accuracy: 0.9738\n",
            "Epoch 17/20\n",
            "1875/1875 [==============================] - 54s 29ms/step - loss: 0.7086 - sparse_categorical_accuracy: 0.7564 - val_loss: 0.1706 - val_sparse_categorical_accuracy: 0.9674\n",
            "Epoch 18/20\n",
            "1875/1875 [==============================] - 64s 34ms/step - loss: 0.6925 - sparse_categorical_accuracy: 0.7581 - val_loss: 0.1267 - val_sparse_categorical_accuracy: 0.9738\n",
            "Epoch 19/20\n",
            "1875/1875 [==============================] - 62s 33ms/step - loss: 0.6871 - sparse_categorical_accuracy: 0.7609 - val_loss: 0.1441 - val_sparse_categorical_accuracy: 0.9725\n",
            "Epoch 20/20\n",
            "1875/1875 [==============================] - 59s 31ms/step - loss: 0.6752 - sparse_categorical_accuracy: 0.7653 - val_loss: 0.1204 - val_sparse_categorical_accuracy: 0.9774\n"
          ]
        }
      ]
    },
    {
      "cell_type": "markdown",
      "source": [
        "We will conduct an experiment now with the number of neurons from the first example of 2D convolution but with higher drop rate, not only to prevent overtraining, but to confuse the network too much and observe the results. Since all the previous tests had lower dropout rates we will initialize a starting rate of 70%. We will add more epochs to see the results gradually. (Final time taken: )"
      ],
      "metadata": {
        "id": "K78Nyv7AMx7q"
      }
    },
    {
      "cell_type": "code",
      "source": [
        "# plot loss\n",
        "from matplotlib import pyplot\n",
        "pyplot.subplot(211)\n",
        "pyplot.title('Cross Entropy Loss')\n",
        "pyplot.plot(history2_3.history['loss'], color='blue', label='train')\n",
        "pyplot.plot(history2_3.history['val_loss'], color='orange', label='test')\n",
        "# plot accuracy\n",
        "pyplot.subplot(212)\n",
        "pyplot.title('Classification Accuracy')\n",
        "pyplot.plot(history2_3.history['sparse_categorical_accuracy'], color='blue', label='train')\n",
        "pyplot.plot(history2_3.history['val_sparse_categorical_accuracy'], color='orange', label='test')\n",
        "# save plot to file\n",
        "# filename = sys.argv[0].split('/')[-1]\n",
        "# pyplot.savefig(filename + '_plot.png')\n",
        "pyplot.show()\n",
        "pyplot.close()"
      ],
      "metadata": {
        "colab": {
          "base_uri": "https://localhost:8080/",
          "height": 281
        },
        "id": "1rotNEt-Niuo",
        "outputId": "1e39f290-38aa-4939-adbf-86581d64ffdd"
      },
      "execution_count": 41,
      "outputs": [
        {
          "output_type": "display_data",
          "data": {
            "text/plain": [
              "<Figure size 432x288 with 2 Axes>"
            ],
            "image/png": "[encoded data removed]"
          },
          "metadata": {
            "needs_background": "light"
          }
        }
      ]
    },
    {
      "cell_type": "markdown",
      "source": [
        "Initially we wanted to confuse the network too much with a high dropout rate but we observe that the network learns from its mistakes faster than the shuffling of the inputs are randomized. Although this psoes a difficulty initially for the network to achieve a high accuracy on the training data, not only does it achieve very high accuracies on the test data but afterwards overcomes this difficulty and gets higher accuracies on the training data itself. And since the dropout rate is high, overtraining is noexistent. This can be truly described as fascinating.\n",
        "\n",
        "We observe that even a failed classification attempt given enough time yields high accuracy.\n",
        "\n",
        "We deduce as a result that a high dropout rate as well as high neuron count for more epochs will yield great results in the long run although the time needed will be huge as well."
      ],
      "metadata": {
        "id": "-DB_sm8xP3pA"
      }
    },
    {
      "cell_type": "markdown",
      "source": [
        "As a final comparison within results we have:\n",
        "\n",
        "knn1: 96.91%\n",
        "\n",
        "knn3: 97.07%\n",
        "\n",
        "knn5: 96.88%\n",
        "\n",
        "knn7: 96.94%\n",
        "\n",
        "clf: 82.03%\n",
        "\n",
        "model1: 95.37% (overtrained afterwards on 5th epoch)\n",
        "\n",
        "model1_1: 96.93% (overtrained afterwards on 8th epoch)\n",
        "\n",
        "model2: 98.59% (overtrained afterwards on 5th epoch)\n",
        "\n",
        "model2_1: 98.99% (slightly overtrained afterwards due to dropout on final epoch)\n",
        "\n",
        "model2_2: 98.71%\n",
        "\n",
        "model2_3: 97.74%\n"
      ],
      "metadata": {
        "id": "8MrPXa4hRxbC"
      }
    }
  ]
}